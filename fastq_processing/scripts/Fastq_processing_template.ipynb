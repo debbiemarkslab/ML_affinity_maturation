{
 "cells": [
  {
   "cell_type": "markdown",
   "id": "3bfac5ff-1b94-4361-be0b-72c58e9c4deb",
   "metadata": {
    "tags": []
   },
   "source": [
    "## Matching barcodes/primers"
   ]
  },
  {
   "cell_type": "code",
   "execution_count": null,
   "id": "cea99a68-66b4-4fc4-9c4f-65693b1f67c5",
   "metadata": {},
   "outputs": [],
   "source": [
    "name = 'NbB7Facs11'"
   ]
  },
  {
   "cell_type": "code",
   "execution_count": 1,
   "id": "6c7d4975-0d4f-4254-bbaf-0bd1427b568f",
   "metadata": {},
   "outputs": [],
   "source": [
    "#set parameters\n",
    "F_primer = 'CAGGTGCAGCTG'\n",
    "R_primer = 'CGCTGCTCACGG'\n",
    "\n",
    "AA_match_start='QVQLQESGGG'\n",
    "AA_match_end='WGQGTQVTVSS'\n",
    "\n",
    "match_error = 2"
   ]
  },
  {
   "cell_type": "code",
   "execution_count": 3,
   "id": "0d1f934a-06dc-4c00-8312-8bffb3ae4a01",
   "metadata": {},
   "outputs": [
    {
     "name": "stderr",
     "output_type": "stream",
     "text": [
      "parse and deduplicate: 307507it [00:10, 30437.70it/s]\n"
     ]
    },
    {
     "data": {
      "application/vnd.jupyter.widget-view+json": {
       "model_id": "e831f856d47b4e06bbdad7fe3b2af53d",
       "version_major": 2,
       "version_minor": 0
      },
      "text/plain": [
       "  0%|          | 0/162776 [00:00<?, ?it/s]"
      ]
     },
     "metadata": {},
     "output_type": "display_data"
    },
    {
     "name": "stdout",
     "output_type": "stream",
     "text": [
      "48.94 % seqs match forward\n",
      "47.79 % seqs match reverse\n",
      "0.06 % seqs match both\n",
      "96.60 % seqs match only one\n",
      "3.33 % seqs match neither\n"
     ]
    },
    {
     "data": {
      "application/vnd.jupyter.widget-view+json": {
       "model_id": "0c00681dff984254866cb849ec872671",
       "version_major": 2,
       "version_minor": 0
      },
      "text/plain": [
       "Pandas Apply:   0%|          | 0/157246 [00:00<?, ?it/s]"
      ]
     },
     "metadata": {},
     "output_type": "display_data"
    },
    {
     "name": "stderr",
     "output_type": "stream",
     "text": [
      "/home/stp022/.conda/envs/bioinf/lib/python3.7/site-packages/pandas/core/indexing.py:1597: SettingWithCopyWarning: \n",
      "A value is trying to be set on a copy of a slice from a DataFrame.\n",
      "Try using .loc[row_indexer,col_indexer] = value instead\n",
      "\n",
      "See the caveats in the documentation: https://pandas.pydata.org/pandas-docs/stable/user_guide/indexing.html#returning-a-view-versus-a-copy\n",
      "  self.obj[key] = value\n",
      "/home/stp022/.conda/envs/bioinf/lib/python3.7/site-packages/pandas/core/indexing.py:1676: SettingWithCopyWarning: \n",
      "A value is trying to be set on a copy of a slice from a DataFrame.\n",
      "Try using .loc[row_indexer,col_indexer] = value instead\n",
      "\n",
      "See the caveats in the documentation: https://pandas.pydata.org/pandas-docs/stable/user_guide/indexing.html#returning-a-view-versus-a-copy\n",
      "  self._setitem_single_column(ilocs[0], value, pi)\n",
      "Writing barcoded seqs: 100%|█████████| 157246/157246 [00:15<00:00, 10006.15it/s]\n"
     ]
    }
   ],
   "source": [
    "import regex, os, sys\n",
    "from Bio.Seq import Seq\n",
    "from Bio import SeqIO\n",
    "from tqdm import tqdm\n",
    "from tqdm.contrib.concurrent import process_map \n",
    "from collections import defaultdict\n",
    "import pandas as pd\n",
    "import swifter\n",
    "\n",
    "def get_match(string,sequence,error):\n",
    "    return regex.search(f\"({string}){{e<={error}}}\", sequence,regex.BESTMATCH)\n",
    "\n",
    "def rev_complement(X):\n",
    "    tbl = X.maketrans('ACGT', 'TGCA')\n",
    "    comp = X.translate(tbl)\n",
    "    return (comp[::-1])\n",
    "\n",
    "def get_span(x):\n",
    "    try:\n",
    "        return (x.span())\n",
    "    except:\n",
    "        return (None)\n",
    "\n",
    "filtered_fastq_fnm = f'filtered_fastq/{name}_lenfilter.fastq'\n",
    "save_fasta_fnm = f'filtered_fastq/{name}_barcode.fastq'\n",
    "\n",
    "primers = {'F':F_primer,\n",
    "          'R': R_primer}\n",
    "primers['Frev'] = rev_complement(primers['F'])\n",
    "primers['Rrev'] = rev_complement(primers['R'])\n",
    "\n",
    "# 1) deduplicate the sequences\n",
    "fasta_fnm = filtered_fastq_fnm\n",
    "seq_dict = defaultdict(int)\n",
    "\n",
    "for record in tqdm(SeqIO.parse(fasta_fnm, 'fastq'), desc='parse and deduplicate'):\n",
    "    seq_dict[str(record.seq)] +=1\n",
    "\n",
    "# 2 + 3) look for primers on sequence & process matches into a binary and extract span of match\n",
    "col_nms = ['seq', 'count']\n",
    "for k,_ in primers.items():\n",
    "    col_nms.append(f'{k}_match')\n",
    "    col_nms.append(f'{k}_span')\n",
    "    \n",
    "def _match_iter(tup):\n",
    "    seq, cnt = tup\n",
    "    res = [seq, cnt]\n",
    "    for k,v in primers.items():\n",
    "        m = get_match(v, seq, error=match_error) #match\n",
    "        sp = get_span(m) #check span\n",
    "        bm = m is not None #say if there is a match\n",
    "        res.append(bm)\n",
    "        res.append(sp)\n",
    "    return (res)\n",
    "\n",
    "match_res = process_map(_match_iter, seq_dict.items(), chunksize=50)\n",
    "\n",
    "mdf = pd.DataFrame(match_res, columns=col_nms)\n",
    "\n",
    "# 4) identify the direction of each sequence\n",
    "mdf['for'] = (mdf['F_match'] & mdf['Rrev_match'])\n",
    "mdf['rev'] = (mdf['R_match'] & mdf['Frev_match'])\n",
    "\n",
    "print ('{:.2f} % seqs match forward'.format(100*mdf['for'].mean()))\n",
    "print ('{:.2f} % seqs match reverse'.format(100*mdf['rev'].mean()))\n",
    "\n",
    "# 5 ) extract sequences that only match to one direction\n",
    "def match_one(x,y):\n",
    "    return ((x & ~y) | (~x & y))\n",
    "\n",
    "print('{:.2f} % seqs match both'.format( 100*(mdf['for']  & mdf['rev']).mean()))\n",
    "print('{:.2f} % seqs match only one'.format( 100*(match_one(mdf['for'], mdf['rev'])).mean()  ))\n",
    "print('{:.2f} % seqs match neither'.format( 100*(~mdf['for'] & ~mdf['rev']).mean()   ))\n",
    "\n",
    "mdf2 = mdf[match_one(mdf['for'], mdf['rev'])]\n",
    "\n",
    "# 6 ) extract the sequence using the spans from the match\n",
    "def _extract_seq(forT, seq, F_span, Rrev_span, R_span, Frev_span):\n",
    "    if forT:\n",
    "        #get end of forward primer\n",
    "        b = F_span[0]\n",
    "        #get beginning of reverse primer\n",
    "        e = Rrev_span[1]\n",
    "        s = seq[b:e]\n",
    "        return (s)\n",
    "    else:\n",
    "        #get end of forward primer\n",
    "        b = R_span[0]\n",
    "        #get beginning of reverse primer\n",
    "        e = Frev_span[1]\n",
    "        s = seq[b:e]\n",
    "        return (s)\n",
    "    \n",
    "nano_seq = mdf2.swifter.apply(lambda x: _extract_seq(x['for'], x['seq'], x['F_span'], x['Rrev_span'], x['R_span'], x['Frev_span']),\n",
    "                      axis=1)\n",
    "\n",
    "mdf2.loc[:,'nano_seq'] = nano_seq\n",
    "\n",
    "# 7 ) reverse complement the sequences from the reverse direction\n",
    "mdf2.loc[:,'cor_seq'] = mdf2.loc[:,'nano_seq'].copy()\n",
    "mdf2.loc[mdf2['rev'], 'cor_seq'] = mdf2['nano_seq'].apply(rev_complement)\n",
    "mdf2 = mdf2.reset_index(drop=True)\n",
    "\n",
    "# 8 ) Save barcode checked seqs\n",
    "with open(save_fasta_fnm, 'w') as f:\n",
    "    for ii, row in tqdm(mdf2.iterrows(), total=mdf2.shape[0], desc='Writing barcoded seqs'):\n",
    "        ID = f'{ii}-{row[\"count\"]}'\n",
    "        f.write(f'>{ID}\\n')\n",
    "        f.write(f'{row[\"cor_seq\"]}\\n')"
   ]
  },
  {
   "cell_type": "markdown",
   "id": "84ec5cdb-88b9-4a2d-b702-82193d82d072",
   "metadata": {
    "tags": []
   },
   "source": [
    "## Translate the sequences\n",
    "\n",
    "Before translating take a sample of the sequences and use expasy to see which reading frame is correct\n",
    "\n",
    "Then use ANARCI to make sure that its a valid VH or VL sequence"
   ]
  },
  {
   "cell_type": "code",
   "execution_count": 5,
   "id": "047a1f73-fc71-484f-80c7-2e3fb22d0c0e",
   "metadata": {
    "tags": []
   },
   "outputs": [
    {
     "data": {
      "application/vnd.jupyter.widget-view+json": {
       "model_id": "668a2d515417436eb5ea52b68ccebc21",
       "version_major": 2,
       "version_minor": 0
      },
      "text/plain": [
       "Pandas Apply:   0%|          | 0/157246 [00:00<?, ?it/s]"
      ]
     },
     "metadata": {},
     "output_type": "display_data"
    },
    {
     "name": "stderr",
     "output_type": "stream",
     "text": [
      "/home/stp022/.conda/envs/bioinf/lib/python3.7/site-packages/Bio/Seq.py:2983: BiopythonWarning: Partial codon, len(sequence) not a multiple of three. Explicitly trim the sequence or add trailing N before translation. This may become an error in future.\n",
      "  BiopythonWarning,\n"
     ]
    },
    {
     "data": {
      "application/vnd.jupyter.widget-view+json": {
       "model_id": "f5f7822f9cbc45b4991a9bb0f737f72d",
       "version_major": 2,
       "version_minor": 0
      },
      "text/plain": [
       "Pandas Apply:   0%|          | 0/157246 [00:00<?, ?it/s]"
      ]
     },
     "metadata": {},
     "output_type": "display_data"
    },
    {
     "name": "stderr",
     "output_type": "stream",
     "text": [
      "100%|███████████████████████████████| 153310/153310 [00:00<00:00, 563706.75it/s]\n"
     ]
    }
   ],
   "source": [
    "import os, sys\n",
    "from Bio.Seq import Seq\n",
    "from Bio.SeqIO.FastaIO import SimpleFastaParser\n",
    "import pandas as pd\n",
    "import swifter\n",
    "from tqdm import tqdm\n",
    "import matplotlib.pyplot as plt\n",
    "\n",
    "\n",
    "save_fasta_fnm = f'filtered_fastq/{name}_barcode.fastq'\n",
    "\n",
    "def import_fasta(fnm):\n",
    "    '''\n",
    "    Simple function for importing a fasta as a df indexed by the id\n",
    "    '''\n",
    "    seq_info = {}\n",
    "    with open(fnm) as fasta_file:\n",
    "        for title, seq in SimpleFastaParser(fasta_file):\n",
    "            seq_info[title] = seq\n",
    "    #convert to dict and sort and then back to dict\n",
    "    seq_df = pd.DataFrame.from_dict(seq_info, orient='index', columns=['seq'])\n",
    "    return (seq_df)\n",
    "\n",
    "def has_gap(seq, gapchar='*'):\n",
    "    for s in seq:\n",
    "        if s == gapchar:\n",
    "            return (True)\n",
    "    return (False)\n",
    "\n",
    "def write_fasta(ids, seqs, fnm):\n",
    "    with open(fnm, 'w') as f:\n",
    "        for i,s in tqdm(zip(ids, seqs), total=len(ids)):\n",
    "            f.write(f'>{i}\\n')\n",
    "            f.write(f'{s}\\n')\n",
    "\n",
    "#translate\n",
    "mdf = import_fasta(save_fasta_fnm)\n",
    "mdf['AA_seq'] = mdf['seq'].swifter.apply(lambda x: str(Seq(x).translate()))\n",
    "\n",
    "#remove any seq with a gap introduced\n",
    "mdf['hasgap'] = mdf['AA_seq'].swifter.apply(has_gap)\n",
    "mdf2 = mdf[~mdf['hasgap']]\n",
    "\n",
    "#write the translated seqs as a fasta\n",
    "fasta_dir = 'bcsplit_protein'\n",
    "if not os.path.isdir(fasta_dir):\n",
    "    os.makedirs(fasta_dir)\n",
    "fasta_fnm = os.path.join(fasta_dir, f'{name}_translated.fasta')\n",
    "write_fasta(mdf2.index, mdf2['AA_seq'], fasta_fnm)"
   ]
  },
  {
   "cell_type": "markdown",
   "id": "a29a5c5c-e60a-4349-bf99-7e7c369f11c7",
   "metadata": {},
   "source": [
    "### Deduplicate"
   ]
  },
  {
   "cell_type": "code",
   "execution_count": 6,
   "id": "5e0a6330-6b64-445f-b7cf-858a8ba7b48b",
   "metadata": {},
   "outputs": [
    {
     "name": "stdout",
     "output_type": "stream",
     "text": [
      "NbB7Facs11_translated\n",
      "70213 duplicates found\n",
      "writing deduplicated fasta...\n"
     ]
    }
   ],
   "source": [
    "import os, sys\n",
    "sys.path.append('/n/groups/marks/projects/nanobodies/kruse_nanobody_sequencing/scripts')\n",
    "from deduplicate_fasta import deduplicate\n",
    "\n",
    "deduplicate('bcsplit_protein', f'{name}_translated')"
   ]
  },
  {
   "cell_type": "markdown",
   "id": "c9080c07-c824-4637-9afd-6307f6f6f1ec",
   "metadata": {
    "tags": []
   },
   "source": [
    "### Make sure the sequences match known beginning and end"
   ]
  },
  {
   "cell_type": "code",
   "execution_count": 8,
   "id": "ea7ca722-b769-4e07-98dd-6786dbe15e6c",
   "metadata": {},
   "outputs": [],
   "source": [
    "import regex, os, sys\n",
    "sys.path.append('/n/groups/marks/projects/nanobodies/kruse_nanobody_sequencing/scripts')\n",
    "from processing_util import import_fasta, write_fasta\n",
    "from tqdm import tqdm\n",
    "from tqdm.contrib.concurrent import process_map \n",
    "import pandas as pd\n",
    "import swifter\n",
    "\n",
    "beginning = AA_match_start\n",
    "end = AA_match_end\n",
    "\n",
    "#import\n",
    "infnm = f'bcsplit_protein/{name}_translated_dedup.fasta'\n",
    "seq_df = import_fasta(infnm)\n",
    "\n",
    "#check for matching to beginning and end\n",
    "def get_match(string,sequence,error = 3):\n",
    "    return regex.search(f\"({string}){{e<={error}}}\", sequence,regex.BESTMATCH)\n",
    "\n",
    "def get_span(x):\n",
    "    try:\n",
    "        return (x.span())\n",
    "    except:\n",
    "        return (None)\n",
    "\n",
    "def _match_iter(seq):\n",
    "    res = []\n",
    "    for v in [beginning, end]:\n",
    "        m = get_match(v, seq, error=2) #match\n",
    "        sp = get_span(m) #check span\n",
    "        bm = m is not None #say if there is a match\n",
    "        res.append(bm)\n",
    "        res.append(sp)\n",
    "    return (res)\n",
    "\n",
    "match_res = process_map(_match_iter, seq_df['seq'], chunksize=50)\n",
    "match_df = pd.DataFrame(match_res, index=seq_df.index,\n",
    "                        columns=['beginning_match','beginning_span', 'end_match', 'end_span'])\n",
    "seq_df2 = pd.concat([seq_df, match_df], axis=1)\n",
    "\n",
    "seq_df2['match'] = seq_df2['beginning_match'] & seq_df2['end_match']\n",
    "\n",
    "print ('{:.2f}% of sequences match nanobody beginning and end'.format(seq_df2['match'].mean()*100))\n",
    "\n",
    "#extract out the sequence within the matched span\n",
    "def _extract_seq(seq, b_span, e_span):\n",
    "    #get end of forward primer\n",
    "    b = b_span[0]\n",
    "    #get beginning of reverse primer\n",
    "    e = e_span[1]\n",
    "    s = seq[b:e]\n",
    "    return (s)\n",
    "    \n",
    "seq_df3 = seq_df2[seq_df2['match']]\n",
    "nano_seq = seq_df3.swifter.apply(lambda x: _extract_seq(x['seq'], x['beginning_span'], x['end_span']),\n",
    "                      axis=1)\n",
    "seq_df3['cor_seq'] = nano_seq"
   ]
  },
  {
   "cell_type": "code",
   "execution_count": 8,
   "id": "bc6f9de8-0364-4ecf-b3c0-c670560241bd",
   "metadata": {},
   "outputs": [
    {
     "data": {
      "application/vnd.jupyter.widget-view+json": {
       "model_id": "d6e998fa47504d15acc83746c654d0ac",
       "version_major": 2,
       "version_minor": 0
      },
      "text/plain": [
       "  0%|          | 0/83097 [00:00<?, ?it/s]"
      ]
     },
     "metadata": {},
     "output_type": "display_data"
    },
    {
     "name": "stdout",
     "output_type": "stream",
     "text": [
      "99.59% of sequences match nanobody beginning and end\n"
     ]
    },
    {
     "data": {
      "application/vnd.jupyter.widget-view+json": {
       "model_id": "93cbf8b50c214e1db47261dd3221bc48",
       "version_major": 2,
       "version_minor": 0
      },
      "text/plain": [
       "Pandas Apply:   0%|          | 0/82760 [00:00<?, ?it/s]"
      ]
     },
     "metadata": {},
     "output_type": "display_data"
    },
    {
     "name": "stderr",
     "output_type": "stream",
     "text": [
      "/home/stp022/.conda/envs/bioinf/lib/python3.7/site-packages/ipykernel_launcher.py:58: SettingWithCopyWarning: \n",
      "A value is trying to be set on a copy of a slice from a DataFrame.\n",
      "Try using .loc[row_indexer,col_indexer] = value instead\n",
      "\n",
      "See the caveats in the documentation: https://pandas.pydata.org/pandas-docs/stable/user_guide/indexing.html#returning-a-view-versus-a-copy\n",
      "/home/stp022/.conda/envs/bioinf/lib/python3.7/site-packages/ipykernel_launcher.py:61: SettingWithCopyWarning: \n",
      "A value is trying to be set on a copy of a slice from a DataFrame.\n",
      "Try using .loc[row_indexer,col_indexer] = value instead\n",
      "\n",
      "See the caveats in the documentation: https://pandas.pydata.org/pandas-docs/stable/user_guide/indexing.html#returning-a-view-versus-a-copy\n"
     ]
    },
    {
     "data": {
      "image/png": "[encoded data removed]",
      "text/plain": [
       "<Figure size 640x480 with 1 Axes>"
      ]
     },
     "metadata": {},
     "output_type": "display_data"
    },
    {
     "name": "stderr",
     "output_type": "stream",
     "text": [
      "100%|█████████████████████████████████| 82760/82760 [00:00<00:00, 659605.32it/s]\n"
     ]
    }
   ],
   "source": [
    "#plot the distribution of lengths\n",
    "seq_df3['length'] = seq_df3['cor_seq'].apply(len)\n",
    "plt.hist(seq_df3['length'])\n",
    "plt.xlabel('VH length')\n",
    "plt.ylabel('count')\n",
    "plt.show()\n",
    "LENTR = None\n",
    "if LENTR:\n",
    "    print ('{} seqs before filtering by length'.format(seq_df3.shape[0]))\n",
    "    seq_df3 = seq_df3[seq_df3['length'] >= LENTR]\n",
    "    print ('{} seqs after filtering by length'.format(seq_df3.shape[0]))\n",
    "    \n",
    "#save\n",
    "fasta_fnm = os.path.join('bcsplit_protein', f'{name}_correct_nb_dedup.fasta')\n",
    "write_fasta(seq_df3.index, seq_df3['cor_seq'], fasta_fnm)"
   ]
  },
  {
   "cell_type": "code",
   "execution_count": null,
   "id": "68c35e84-ab7d-4868-a6d8-45d41092a58e",
   "metadata": {},
   "outputs": [],
   "source": []
  },
  {
   "cell_type": "code",
   "execution_count": null,
   "id": "caa0709f-6dcf-482a-b368-88bff440d385",
   "metadata": {},
   "outputs": [],
   "source": []
  }
 ],
 "metadata": {
  "kernelspec": {
   "display_name": "Python 3 (ipykernel)",
   "language": "python",
   "name": "python3"
  },
  "language_info": {
   "codemirror_mode": {
    "name": "ipython",
    "version": 3
   },
   "file_extension": ".py",
   "mimetype": "text/x-python",
   "name": "python",
   "nbconvert_exporter": "python",
   "pygments_lexer": "ipython3",
   "version": "3.9.7"
  }
 },
 "nbformat": 4,
 "nbformat_minor": 5
}
